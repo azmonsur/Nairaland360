{
 "cells": [
  {
   "cell_type": "markdown",
   "metadata": {},
   "source": [
    "# Nairaland in Figures and Pictures"
   ]
  },
  {
   "cell_type": "markdown",
   "metadata": {},
   "source": [
    "#### Import necessary libraries"
   ]
  },
  {
   "cell_type": "code",
   "execution_count": 1,
   "metadata": {},
   "outputs": [],
   "source": [
    "from IPython.core.interactiveshell import InteractiveShell\n",
    "InteractiveShell.ast_node_interactivity = \"all\"\n",
    "\n",
    "import os, time, datetime, re, math\n",
    "import pandas as pd\n",
    "import numpy as np\n",
    "import seaborn as sns\n",
    "from matplotlib import pyplot as plt\n",
    "%matplotlib inline"
   ]
  },
  {
   "cell_type": "code",
   "execution_count": 6,
   "metadata": {},
   "outputs": [
    {
     "data": {
      "text/plain": [
       "'C:\\\\Users\\\\Azeez Monsur'"
      ]
     },
     "execution_count": 6,
     "metadata": {},
     "output_type": "execute_result"
    }
   ],
   "source": [
    "\n",
    "os.getcwd()"
   ]
  },
  {
   "cell_type": "code",
   "execution_count": 2,
   "metadata": {},
   "outputs": [],
   "source": [
    "enc = \"iso-8859-15\"\n",
    "path_csv = r\"E:\\File_Manager\\Projects\\Python\\Doc Files\\CSV\"\n",
    "df = pd.read_csv(f\"{path_csv}/nl_dataset.csv\", encoding=enc)\n"
   ]
  },
  {
   "cell_type": "code",
   "execution_count": 3,
   "metadata": {},
   "outputs": [
    {
     "data": {
      "text/html": [
       "<div>\n",
       "<style scoped>\n",
       "    .dataframe tbody tr th:only-of-type {\n",
       "        vertical-align: middle;\n",
       "    }\n",
       "\n",
       "    .dataframe tbody tr th {\n",
       "        vertical-align: top;\n",
       "    }\n",
       "\n",
       "    .dataframe thead th {\n",
       "        text-align: right;\n",
       "    }\n",
       "</style>\n",
       "<table border=\"1\" class=\"dataframe\">\n",
       "  <thead>\n",
       "    <tr style=\"text-align: right;\">\n",
       "      <th></th>\n",
       "      <th>ï»¿topic</th>\n",
       "      <th>category</th>\n",
       "      <th>number of views</th>\n",
       "      <th>number of comments</th>\n",
       "      <th>keywords</th>\n",
       "      <th>author name</th>\n",
       "      <th>weekday created</th>\n",
       "      <th>date created</th>\n",
       "      <th>time created</th>\n",
       "      <th>weekday moved to frontpage</th>\n",
       "      <th>date moved to frontpage</th>\n",
       "      <th>time moved to frontpage</th>\n",
       "      <th>date copied to db</th>\n",
       "      <th>time copied to db</th>\n",
       "      <th>mktime created</th>\n",
       "      <th>mktime moved</th>\n",
       "      <th>topic URL</th>\n",
       "    </tr>\n",
       "  </thead>\n",
       "  <tbody>\n",
       "    <tr>\n",
       "      <th>0</th>\n",
       "      <td>Father Who Defiled His 6 And 9-Year-Old Daught...</td>\n",
       "      <td>Crime</td>\n",
       "      <td>23862</td>\n",
       "      <td>150</td>\n",
       "      <td>['daughters', 'ondo', 'father', 'year', 'arres...</td>\n",
       "      <td>monddy</td>\n",
       "      <td>Mon</td>\n",
       "      <td>25-May-2020</td>\n",
       "      <td>11:01am</td>\n",
       "      <td>Mon</td>\n",
       "      <td>25-May-2020</td>\n",
       "      <td>11:44am</td>\n",
       "      <td>27-May-2020</td>\n",
       "      <td>01:30pm</td>\n",
       "      <td>1.590401e+09</td>\n",
       "      <td>1.590403e+09</td>\n",
       "      <td>https://www.nairaland.com/5880999/father-defil...</td>\n",
       "    </tr>\n",
       "    <tr>\n",
       "      <th>1</th>\n",
       "      <td>Buhari: We Donât Have Any Money To Import Fo...</td>\n",
       "      <td>Politics</td>\n",
       "      <td>23384</td>\n",
       "      <td>180</td>\n",
       "      <td>['start', 'producing', 'buhari', 'dont', 'mone...</td>\n",
       "      <td>maupe</td>\n",
       "      <td>Mon</td>\n",
       "      <td>25-May-2020</td>\n",
       "      <td>9:30am</td>\n",
       "      <td>Mon</td>\n",
       "      <td>25-May-2020</td>\n",
       "      <td>11:30am</td>\n",
       "      <td>27-May-2020</td>\n",
       "      <td>01:30pm</td>\n",
       "      <td>1.590395e+09</td>\n",
       "      <td>1.590403e+09</td>\n",
       "      <td>https://www.nairaland.com/5880799/buhari-dont-...</td>\n",
       "    </tr>\n",
       "    <tr>\n",
       "      <th>2</th>\n",
       "      <td>Photos Of Ore Flyover Bridge In Ondo State</td>\n",
       "      <td>Travel</td>\n",
       "      <td>65130</td>\n",
       "      <td>270</td>\n",
       "      <td>['ondo', 'ore', 'bridge', 'photos', 'state', '...</td>\n",
       "      <td>Sanromeo</td>\n",
       "      <td>Sun</td>\n",
       "      <td>24-May-2020</td>\n",
       "      <td>9:21am</td>\n",
       "      <td>Mon</td>\n",
       "      <td>25-May-2020</td>\n",
       "      <td>11:16am</td>\n",
       "      <td>27-May-2020</td>\n",
       "      <td>01:30pm</td>\n",
       "      <td>1.590308e+09</td>\n",
       "      <td>1.590402e+09</td>\n",
       "      <td>https://www.nairaland.com/5878914/photos-ore-f...</td>\n",
       "    </tr>\n",
       "    <tr>\n",
       "      <th>3</th>\n",
       "      <td>Cross River State Government Declares 35 Perso...</td>\n",
       "      <td>Crime</td>\n",
       "      <td>19926</td>\n",
       "      <td>120</td>\n",
       "      <td>['river', 'persons', 'wanted', 'state', 'cross...</td>\n",
       "      <td>oshozondii</td>\n",
       "      <td>Mon</td>\n",
       "      <td>25-May-2020</td>\n",
       "      <td>10:25am</td>\n",
       "      <td>Mon</td>\n",
       "      <td>25-May-2020</td>\n",
       "      <td>10:49am</td>\n",
       "      <td>27-May-2020</td>\n",
       "      <td>01:30pm</td>\n",
       "      <td>1.590399e+09</td>\n",
       "      <td>1.590400e+09</td>\n",
       "      <td>https://www.nairaland.com/5880910/cross-river-...</td>\n",
       "    </tr>\n",
       "    <tr>\n",
       "      <th>4</th>\n",
       "      <td>Osun: Amotekun Catches Gang Leader 'Shadow' Th...</td>\n",
       "      <td>Crime</td>\n",
       "      <td>60594</td>\n",
       "      <td>150</td>\n",
       "      <td>['shadow', 'leader', 'sex', 'gang', 'commercia...</td>\n",
       "      <td>sexyYBMB</td>\n",
       "      <td>Mon</td>\n",
       "      <td>25-May-2020</td>\n",
       "      <td>9:38am</td>\n",
       "      <td>Mon</td>\n",
       "      <td>25-May-2020</td>\n",
       "      <td>10:38am</td>\n",
       "      <td>27-May-2020</td>\n",
       "      <td>01:30pm</td>\n",
       "      <td>1.590396e+09</td>\n",
       "      <td>1.590399e+09</td>\n",
       "      <td>https://www.nairaland.com/5880813/osun-amoteku...</td>\n",
       "    </tr>\n",
       "    <tr>\n",
       "      <th>...</th>\n",
       "      <td>...</td>\n",
       "      <td>...</td>\n",
       "      <td>...</td>\n",
       "      <td>...</td>\n",
       "      <td>...</td>\n",
       "      <td>...</td>\n",
       "      <td>...</td>\n",
       "      <td>...</td>\n",
       "      <td>...</td>\n",
       "      <td>...</td>\n",
       "      <td>...</td>\n",
       "      <td>...</td>\n",
       "      <td>...</td>\n",
       "      <td>...</td>\n",
       "      <td>...</td>\n",
       "      <td>...</td>\n",
       "      <td>...</td>\n",
       "    </tr>\n",
       "    <tr>\n",
       "      <th>1190</th>\n",
       "      <td>36 Moat Academy Alumni Honored With Achievemen...</td>\n",
       "      <td>Career</td>\n",
       "      <td>4189</td>\n",
       "      <td>60</td>\n",
       "      <td>['awards', 'moat', 'honored', 'alumni', 'acade...</td>\n",
       "      <td>moatacad</td>\n",
       "      <td>Thu</td>\n",
       "      <td>29-Dec-2022</td>\n",
       "      <td>6:34pm</td>\n",
       "      <td>Fri</td>\n",
       "      <td>30-Dec-2022</td>\n",
       "      <td>8:51am</td>\n",
       "      <td>01-Jan-2023</td>\n",
       "      <td>09:07am</td>\n",
       "      <td>1.672335e+09</td>\n",
       "      <td>1.672387e+09</td>\n",
       "      <td>https://www.nairaland.com/7501699/36-moat-acad...</td>\n",
       "    </tr>\n",
       "    <tr>\n",
       "      <th>1191</th>\n",
       "      <td>What Are You Thanking For As 2022 Is Coming To...</td>\n",
       "      <td>Religion</td>\n",
       "      <td>6775</td>\n",
       "      <td>210</td>\n",
       "      <td>['thanking', 'end', 'coming']</td>\n",
       "      <td>obembet</td>\n",
       "      <td>Fri</td>\n",
       "      <td>30-Dec-2022</td>\n",
       "      <td>8:21am</td>\n",
       "      <td>Fri</td>\n",
       "      <td>30-Dec-2022</td>\n",
       "      <td>8:24am</td>\n",
       "      <td>01-Jan-2023</td>\n",
       "      <td>09:07am</td>\n",
       "      <td>1.672385e+09</td>\n",
       "      <td>1.672385e+09</td>\n",
       "      <td>https://www.nairaland.com/7502363/what-thankin...</td>\n",
       "    </tr>\n",
       "    <tr>\n",
       "      <th>1192</th>\n",
       "      <td>Video Of Projects Commissioned By President Bu...</td>\n",
       "      <td>Politics</td>\n",
       "      <td>19048</td>\n",
       "      <td>90</td>\n",
       "      <td>['commissioned', 'projects', 'kogi', 'presiden...</td>\n",
       "      <td>Oluboh</td>\n",
       "      <td>Fri</td>\n",
       "      <td>30-Dec-2022</td>\n",
       "      <td>6:59am</td>\n",
       "      <td>Fri</td>\n",
       "      <td>30-Dec-2022</td>\n",
       "      <td>7:24am</td>\n",
       "      <td>01-Jan-2023</td>\n",
       "      <td>09:07am</td>\n",
       "      <td>1.672380e+09</td>\n",
       "      <td>1.672381e+09</td>\n",
       "      <td>https://www.nairaland.com/7502265/video-projec...</td>\n",
       "    </tr>\n",
       "    <tr>\n",
       "      <th>1193</th>\n",
       "      <td>Adams Oshiomhole Gets Into Dance Competition W...</td>\n",
       "      <td>Politics</td>\n",
       "      <td>16313</td>\n",
       "      <td>90</td>\n",
       "      <td>['oshiomhole', 'dance', 'children', 'video', '...</td>\n",
       "      <td>oikirodah</td>\n",
       "      <td>Thu</td>\n",
       "      <td>29-Dec-2022</td>\n",
       "      <td>3:24pm</td>\n",
       "      <td>Fri</td>\n",
       "      <td>30-Dec-2022</td>\n",
       "      <td>6:53am</td>\n",
       "      <td>01-Jan-2023</td>\n",
       "      <td>09:07am</td>\n",
       "      <td>1.672324e+09</td>\n",
       "      <td>1.672380e+09</td>\n",
       "      <td>https://www.nairaland.com/7501401/adams-oshiom...</td>\n",
       "    </tr>\n",
       "    <tr>\n",
       "      <th>1194</th>\n",
       "      <td>Four Arrested For Burning Adamawa Woman To Dea...</td>\n",
       "      <td>Crime</td>\n",
       "      <td>22788</td>\n",
       "      <td>210</td>\n",
       "      <td>['woman', 'death', 'photo', 'arrested', 'adama...</td>\n",
       "      <td>NwekeUG</td>\n",
       "      <td>Fri</td>\n",
       "      <td>30-Dec-2022</td>\n",
       "      <td>6:27am</td>\n",
       "      <td>Fri</td>\n",
       "      <td>30-Dec-2022</td>\n",
       "      <td>6:48am</td>\n",
       "      <td>01-Jan-2023</td>\n",
       "      <td>09:07am</td>\n",
       "      <td>1.672378e+09</td>\n",
       "      <td>1.672379e+09</td>\n",
       "      <td>https://www.nairaland.com/7502226/four-arreste...</td>\n",
       "    </tr>\n",
       "  </tbody>\n",
       "</table>\n",
       "<p>1195 rows × 17 columns</p>\n",
       "</div>"
      ],
      "text/plain": [
       "                                               ï»¿topic  category  \\\n",
       "0     Father Who Defiled His 6 And 9-Year-Old Daught...     Crime   \n",
       "1     Buhari: We Donât Have Any Money To Import Fo...  Politics   \n",
       "2            Photos Of Ore Flyover Bridge In Ondo State    Travel   \n",
       "3     Cross River State Government Declares 35 Perso...     Crime   \n",
       "4     Osun: Amotekun Catches Gang Leader 'Shadow' Th...     Crime   \n",
       "...                                                 ...       ...   \n",
       "1190  36 Moat Academy Alumni Honored With Achievemen...    Career   \n",
       "1191  What Are You Thanking For As 2022 Is Coming To...  Religion   \n",
       "1192  Video Of Projects Commissioned By President Bu...  Politics   \n",
       "1193  Adams Oshiomhole Gets Into Dance Competition W...  Politics   \n",
       "1194  Four Arrested For Burning Adamawa Woman To Dea...     Crime   \n",
       "\n",
       "      number of views  number of comments  \\\n",
       "0               23862                 150   \n",
       "1               23384                 180   \n",
       "2               65130                 270   \n",
       "3               19926                 120   \n",
       "4               60594                 150   \n",
       "...               ...                 ...   \n",
       "1190             4189                  60   \n",
       "1191             6775                 210   \n",
       "1192            19048                  90   \n",
       "1193            16313                  90   \n",
       "1194            22788                 210   \n",
       "\n",
       "                                               keywords author name  \\\n",
       "0     ['daughters', 'ondo', 'father', 'year', 'arres...      monddy   \n",
       "1     ['start', 'producing', 'buhari', 'dont', 'mone...       maupe   \n",
       "2     ['ondo', 'ore', 'bridge', 'photos', 'state', '...    Sanromeo   \n",
       "3     ['river', 'persons', 'wanted', 'state', 'cross...  oshozondii   \n",
       "4     ['shadow', 'leader', 'sex', 'gang', 'commercia...    sexyYBMB   \n",
       "...                                                 ...         ...   \n",
       "1190  ['awards', 'moat', 'honored', 'alumni', 'acade...    moatacad   \n",
       "1191                      ['thanking', 'end', 'coming']     obembet   \n",
       "1192  ['commissioned', 'projects', 'kogi', 'presiden...      Oluboh   \n",
       "1193  ['oshiomhole', 'dance', 'children', 'video', '...   oikirodah   \n",
       "1194  ['woman', 'death', 'photo', 'arrested', 'adama...     NwekeUG   \n",
       "\n",
       "     weekday created date created time created weekday moved to frontpage  \\\n",
       "0                Mon  25-May-2020      11:01am                        Mon   \n",
       "1                Mon  25-May-2020       9:30am                        Mon   \n",
       "2                Sun  24-May-2020       9:21am                        Mon   \n",
       "3                Mon  25-May-2020      10:25am                        Mon   \n",
       "4                Mon  25-May-2020       9:38am                        Mon   \n",
       "...              ...          ...          ...                        ...   \n",
       "1190             Thu  29-Dec-2022       6:34pm                        Fri   \n",
       "1191             Fri  30-Dec-2022       8:21am                        Fri   \n",
       "1192             Fri  30-Dec-2022       6:59am                        Fri   \n",
       "1193             Thu  29-Dec-2022       3:24pm                        Fri   \n",
       "1194             Fri  30-Dec-2022       6:27am                        Fri   \n",
       "\n",
       "     date moved to frontpage time moved to frontpage date copied to db  \\\n",
       "0                25-May-2020                 11:44am       27-May-2020   \n",
       "1                25-May-2020                 11:30am       27-May-2020   \n",
       "2                25-May-2020                 11:16am       27-May-2020   \n",
       "3                25-May-2020                 10:49am       27-May-2020   \n",
       "4                25-May-2020                 10:38am       27-May-2020   \n",
       "...                      ...                     ...               ...   \n",
       "1190             30-Dec-2022                  8:51am       01-Jan-2023   \n",
       "1191             30-Dec-2022                  8:24am       01-Jan-2023   \n",
       "1192             30-Dec-2022                  7:24am       01-Jan-2023   \n",
       "1193             30-Dec-2022                  6:53am       01-Jan-2023   \n",
       "1194             30-Dec-2022                  6:48am       01-Jan-2023   \n",
       "\n",
       "     time copied to db  mktime created  mktime moved  \\\n",
       "0              01:30pm    1.590401e+09  1.590403e+09   \n",
       "1              01:30pm    1.590395e+09  1.590403e+09   \n",
       "2              01:30pm    1.590308e+09  1.590402e+09   \n",
       "3              01:30pm    1.590399e+09  1.590400e+09   \n",
       "4              01:30pm    1.590396e+09  1.590399e+09   \n",
       "...                ...             ...           ...   \n",
       "1190           09:07am    1.672335e+09  1.672387e+09   \n",
       "1191           09:07am    1.672385e+09  1.672385e+09   \n",
       "1192           09:07am    1.672380e+09  1.672381e+09   \n",
       "1193           09:07am    1.672324e+09  1.672380e+09   \n",
       "1194           09:07am    1.672378e+09  1.672379e+09   \n",
       "\n",
       "                                              topic URL  \n",
       "0     https://www.nairaland.com/5880999/father-defil...  \n",
       "1     https://www.nairaland.com/5880799/buhari-dont-...  \n",
       "2     https://www.nairaland.com/5878914/photos-ore-f...  \n",
       "3     https://www.nairaland.com/5880910/cross-river-...  \n",
       "4     https://www.nairaland.com/5880813/osun-amoteku...  \n",
       "...                                                 ...  \n",
       "1190  https://www.nairaland.com/7501699/36-moat-acad...  \n",
       "1191  https://www.nairaland.com/7502363/what-thankin...  \n",
       "1192  https://www.nairaland.com/7502265/video-projec...  \n",
       "1193  https://www.nairaland.com/7501401/adams-oshiom...  \n",
       "1194  https://www.nairaland.com/7502226/four-arreste...  \n",
       "\n",
       "[1195 rows x 17 columns]"
      ]
     },
     "execution_count": 3,
     "metadata": {},
     "output_type": "execute_result"
    }
   ],
   "source": [
    "df"
   ]
  },
  {
   "cell_type": "code",
   "execution_count": 4,
   "metadata": {},
   "outputs": [
    {
     "data": {
      "text/plain": [
       "134098"
      ]
     },
     "execution_count": 4,
     "metadata": {},
     "output_type": "execute_result"
    }
   ],
   "source": [
    "df[\"number of views\"].max()\n",
    "#df[\"date moved to frontpage\"].tail(70)"
   ]
  },
  {
   "cell_type": "code",
   "execution_count": 5,
   "metadata": {},
   "outputs": [
    {
     "data": {
      "text/plain": [
       "'Data collected from 22 May - 31 Dec, 2020'"
      ]
     },
     "execution_count": 5,
     "metadata": {},
     "output_type": "execute_result"
    }
   ],
   "source": [
    "oldest = df[\"mktime moved\"].min()\n",
    "earliest = df[\"mktime moved\"].max()\n",
    "new_earliest = earliest\n",
    "#time.ctime(earliest - (7*86400))\n",
    "oldest = re.sub(r\"\\s+\", \" \", time.ctime(oldest)).split(\" \")[1:3]\n",
    "earliest = re.sub(r\" \\s+\", \" \", time.ctime(earliest)).split(\" \")[1:3]\n",
    "oldest.reverse()\n",
    "earliest.reverse()\n",
    "oldest = \" \".join(oldest)\n",
    "earliest = \" \".join(earliest)\n",
    "\n",
    "from_to = f\"Data collected from {oldest} - {earliest}, 2020\"\n",
    "from_to"
   ]
  },
  {
   "cell_type": "code",
   "execution_count": 6,
   "metadata": {},
   "outputs": [],
   "source": [
    "df = df.dropna()"
   ]
  },
  {
   "cell_type": "code",
   "execution_count": 7,
   "metadata": {},
   "outputs": [
    {
     "name": "stderr",
     "output_type": "stream",
     "text": [
      "<ipython-input-7-f58d7f5d167f>:2: SettingWithCopyWarning: \n",
      "A value is trying to be set on a copy of a slice from a DataFrame.\n",
      "Try using .loc[row_indexer,col_indexer] = value instead\n",
      "\n",
      "See the caveats in the documentation: https://pandas.pydata.org/pandas-docs/stable/user_guide/indexing.html#returning-a-view-versus-a-copy\n",
      "  df[\"hour\"] = date.dt.hour + (0.01 * date.dt.minute)\n"
     ]
    }
   ],
   "source": [
    "date = pd.to_datetime(df[\"time moved to frontpage\"])\n",
    "df[\"hour\"] = date.dt.hour + (0.01 * date.dt.minute)\n"
   ]
  },
  {
   "cell_type": "markdown",
   "metadata": {},
   "source": [
    "# Visualisation (Explorative Analysis)"
   ]
  },
  {
   "cell_type": "markdown",
   "metadata": {},
   "source": [
    "#### Histogram and density ploy"
   ]
  },
  {
   "cell_type": "code",
   "execution_count": 8,
   "metadata": {},
   "outputs": [
    {
     "data": {
      "image/png": "[encoded data removed]",
      "text/plain": [
       "<Figure size 432x288 with 1 Axes>"
      ]
     },
     "metadata": {
      "needs_background": "light"
     },
     "output_type": "display_data"
    }
   ],
   "source": [
    "df[\"number of views\"].plot.hist(bins=50);\n"
   ]
  },
  {
   "cell_type": "code",
   "execution_count": 9,
   "metadata": {},
   "outputs": [
    {
     "data": {
      "image/png": "[encoded data removed]",
      "text/plain": [
       "<Figure size 432x288 with 1 Axes>"
      ]
     },
     "metadata": {
      "needs_background": "light"
     },
     "output_type": "display_data"
    }
   ],
   "source": [
    "df[\"number of views\"].plot.density();\n"
   ]
  },
  {
   "cell_type": "markdown",
   "metadata": {},
   "source": [
    "#### Pick hours for moving topics to front page"
   ]
  },
  {
   "cell_type": "code",
   "execution_count": 10,
   "metadata": {},
   "outputs": [
    {
     "data": {
      "image/png": "[encoded data removed]",
      "text/plain": [
       "<Figure size 432x288 with 1 Axes>"
      ]
     },
     "metadata": {
      "needs_background": "light"
     },
     "output_type": "display_data"
    }
   ],
   "source": [
    "bins = np.array([x for x in range(4, 25)])\n",
    "factor = pd.cut(df[\"hour\"], bins)\n",
    "grouped = df[\"hour\"].groupby(factor)\n",
    "grouped.count().plot(kind=\"line\")\n",
    "grouped.count().plot(kind=\"bar\", alpha=0.1)\n",
    "\n",
    "plt.grid()\n",
    "plt.xlabel(\"Hour Range\")\n",
    "plt.ylabel(\"Number of Topics\")\n",
    "plt.xticks(rotation=\"vertical\")\n",
    "plt.title(f\"Fig. 1. Hours of the day and their number of topics\\n{from_to}\\n\")\n",
    "#plt.savefig(\"android/IMG/Pick_hour.png\")\n",
    "plt.show();"
   ]
  },
  {
   "cell_type": "markdown",
   "metadata": {},
   "source": [
    "#### Most category at the frontpage"
   ]
  },
  {
   "cell_type": "code",
   "execution_count": 11,
   "metadata": {},
   "outputs": [
    {
     "data": {
      "image/png": "[encoded data removed]",
      "text/plain": [
       "<Figure size 432x288 with 1 Axes>"
      ]
     },
     "metadata": {
      "needs_background": "light"
     },
     "output_type": "display_data"
    }
   ],
   "source": [
    "categories = [cate for cate, dt in df.groupby(\"category\")]\n",
    "plt.bar(categories, df.groupby(\"category\")[\"category\"].count(), color=\"g\", alpha=0.6)\n",
    "_ = plt.xticks(categories, rotation=\"vertical\")\n",
    "_ = plt.title(f\"Fig. 2. Topics by categories (frontpage)\\n{from_to}\")\n",
    "_ = plt.xlabel(\"Topic Category\")\n",
    "_ = plt.ylabel(\"Number of Topics \")\n",
    "#plt.savefig(\"android/IMG/Most_category.jpeg\")\n",
    "plt.show();\n"
   ]
  },
  {
   "cell_type": "markdown",
   "metadata": {},
   "source": [
    "#### Members with most topics"
   ]
  },
  {
   "cell_type": "code",
   "execution_count": 12,
   "metadata": {},
   "outputs": [
    {
     "data": {
      "image/png": "[encoded data removed]",
      "text/plain": [
       "<Figure size 432x288 with 1 Axes>"
      ]
     },
     "metadata": {
      "needs_background": "light"
     },
     "output_type": "display_data"
    }
   ],
   "source": [
    "df[\"author name\"].value_counts().head(10).plot(kind=\"bar\")\n",
    "plt.ylabel(\"Number of Topics\")\n",
    "plt.xlabel(\"Users\")\n",
    "plt.title(f\"Fig. 3. Top 10 users with most frontpage topics\\n{from_to}\")\n",
    "#plt.savefig(\"android/IMG/Member_topics.jpeg\")\n",
    "plt.show();"
   ]
  },
  {
   "cell_type": "markdown",
   "metadata": {},
   "source": [
    "#### Finding time difference between time that topics are created and time they make it to the front-page"
   ]
  },
  {
   "cell_type": "code",
   "execution_count": 15,
   "metadata": {},
   "outputs": [
    {
     "name": "stderr",
     "output_type": "stream",
     "text": [
      "<ipython-input-15-63ef0b10076e>:1: SettingWithCopyWarning: \n",
      "A value is trying to be set on a copy of a slice from a DataFrame.\n",
      "Try using .loc[row_indexer,col_indexer] = value instead\n",
      "\n",
      "See the caveats in the documentation: https://pandas.pydata.org/pandas-docs/stable/user_guide/indexing.html#returning-a-view-versus-a-copy\n",
      "  df[\"time difference\"] = abs(df[\"mktime moved\"] - df[\"mktime created\"]) / 3600\n"
     ]
    }
   ],
   "source": [
    "df[\"time difference\"] = abs(df[\"mktime moved\"] - df[\"mktime created\"]) / 3600\n",
    "#df[\"time difference\"] = df[\"time difference\"].apply(lambda x: str(datetime.timedelta(seconds=x)))\n",
    "#df.sort_values(\"time difference\")\n",
    "\n"
   ]
  },
  {
   "cell_type": "code",
   "execution_count": 16,
   "metadata": {},
   "outputs": [
    {
     "data": {
      "text/html": [
       "<div>\n",
       "<style scoped>\n",
       "    .dataframe tbody tr th:only-of-type {\n",
       "        vertical-align: middle;\n",
       "    }\n",
       "\n",
       "    .dataframe tbody tr th {\n",
       "        vertical-align: top;\n",
       "    }\n",
       "\n",
       "    .dataframe thead th {\n",
       "        text-align: right;\n",
       "    }\n",
       "</style>\n",
       "<table border=\"1\" class=\"dataframe\">\n",
       "  <thead>\n",
       "    <tr style=\"text-align: right;\">\n",
       "      <th></th>\n",
       "      <th>ï»¿topic</th>\n",
       "      <th>category</th>\n",
       "      <th>number of views</th>\n",
       "      <th>number of comments</th>\n",
       "      <th>keywords</th>\n",
       "      <th>author name</th>\n",
       "      <th>weekday created</th>\n",
       "      <th>date created</th>\n",
       "      <th>time created</th>\n",
       "      <th>weekday moved to frontpage</th>\n",
       "      <th>date moved to frontpage</th>\n",
       "      <th>time moved to frontpage</th>\n",
       "      <th>date copied to db</th>\n",
       "      <th>time copied to db</th>\n",
       "      <th>mktime created</th>\n",
       "      <th>mktime moved</th>\n",
       "      <th>topic URL</th>\n",
       "      <th>hour</th>\n",
       "      <th>time difference</th>\n",
       "    </tr>\n",
       "  </thead>\n",
       "  <tbody>\n",
       "    <tr>\n",
       "      <th>965</th>\n",
       "      <td>Lagos Farmers Show Their Produce (Pictures)</td>\n",
       "      <td>Agriculture</td>\n",
       "      <td>40417</td>\n",
       "      <td>90</td>\n",
       "      <td>['produce', 'lagos', 'show', 'pictures', 'farm...</td>\n",
       "      <td>Lanrelagboi</td>\n",
       "      <td>Sun</td>\n",
       "      <td>07-Jun-2020</td>\n",
       "      <td>1:40pm</td>\n",
       "      <td>Sun</td>\n",
       "      <td>07-Jun-2020</td>\n",
       "      <td>2:08pm</td>\n",
       "      <td>10-Jun-2020</td>\n",
       "      <td>07:15am</td>\n",
       "      <td>1.591534e+09</td>\n",
       "      <td>1.591535e+09</td>\n",
       "      <td>https://www.nairaland.com/5909405/lagos-farmer...</td>\n",
       "      <td>14.08</td>\n",
       "      <td>0.466667</td>\n",
       "    </tr>\n",
       "    <tr>\n",
       "      <th>475</th>\n",
       "      <td>Rivers State To Inaugurate Cassava Plant, To E...</td>\n",
       "      <td>Agriculture</td>\n",
       "      <td>19198</td>\n",
       "      <td>90</td>\n",
       "      <td>['rivers', 'state', 'employ', 'cassava', 'pers...</td>\n",
       "      <td>Anambra1stSon</td>\n",
       "      <td>Fri</td>\n",
       "      <td>29-May-2020</td>\n",
       "      <td>6:32am</td>\n",
       "      <td>Fri</td>\n",
       "      <td>29-May-2020</td>\n",
       "      <td>8:39am</td>\n",
       "      <td>01-Jun-2020</td>\n",
       "      <td>05:31am</td>\n",
       "      <td>1.590730e+09</td>\n",
       "      <td>1.590738e+09</td>\n",
       "      <td>https://www.nairaland.com/5889259/rivers-state...</td>\n",
       "      <td>8.39</td>\n",
       "      <td>2.116667</td>\n",
       "    </tr>\n",
       "    <tr>\n",
       "      <th>507</th>\n",
       "      <td>Ukwulu Invasion: Outcry As Fulani Herdsmen Rui...</td>\n",
       "      <td>Agriculture</td>\n",
       "      <td>34555</td>\n",
       "      <td>240</td>\n",
       "      <td>['anambra', 'video', 'ruin', 'farmlands', 'ukw...</td>\n",
       "      <td>Samakus</td>\n",
       "      <td>Thu</td>\n",
       "      <td>28-May-2020</td>\n",
       "      <td>9:16am</td>\n",
       "      <td>Sat</td>\n",
       "      <td>30-May-2020</td>\n",
       "      <td>11:07am</td>\n",
       "      <td>02-Jun-2020</td>\n",
       "      <td>03:23am</td>\n",
       "      <td>1.590654e+09</td>\n",
       "      <td>1.590833e+09</td>\n",
       "      <td>https://www.nairaland.com/5887325/ukwulu-invas...</td>\n",
       "      <td>11.07</td>\n",
       "      <td>49.850000</td>\n",
       "    </tr>\n",
       "    <tr>\n",
       "      <th>464</th>\n",
       "      <td>IVM Expansion: Igwe Nnewi Endorses Plan, Bless...</td>\n",
       "      <td>Autos</td>\n",
       "      <td>46059</td>\n",
       "      <td>180</td>\n",
       "      <td>['expansion', 'locationphotos', 'endorses', 'b...</td>\n",
       "      <td>Anambra1stSon</td>\n",
       "      <td>Wed</td>\n",
       "      <td>27-May-2020</td>\n",
       "      <td>4:40pm</td>\n",
       "      <td>Fri</td>\n",
       "      <td>29-May-2020</td>\n",
       "      <td>10:14am</td>\n",
       "      <td>01-Jun-2020</td>\n",
       "      <td>05:31am</td>\n",
       "      <td>1.590594e+09</td>\n",
       "      <td>1.590744e+09</td>\n",
       "      <td>https://www.nairaland.com/5886156/ivm-expansio...</td>\n",
       "      <td>10.14</td>\n",
       "      <td>41.566667</td>\n",
       "    </tr>\n",
       "    <tr>\n",
       "      <th>8</th>\n",
       "      <td>How Much Should I Pay Someone To Drive My Car ...</td>\n",
       "      <td>Autos</td>\n",
       "      <td>44641</td>\n",
       "      <td>300</td>\n",
       "      <td>['car', 'pay', 'drive', 'abuja', 'lagos']</td>\n",
       "      <td>9jaHustler</td>\n",
       "      <td>Sun</td>\n",
       "      <td>24-May-2020</td>\n",
       "      <td>12:42pm</td>\n",
       "      <td>Mon</td>\n",
       "      <td>25-May-2020</td>\n",
       "      <td>9:17am</td>\n",
       "      <td>27-May-2020</td>\n",
       "      <td>01:30pm</td>\n",
       "      <td>1.590321e+09</td>\n",
       "      <td>1.590395e+09</td>\n",
       "      <td>https://www.nairaland.com/5879240/how-much-sho...</td>\n",
       "      <td>9.17</td>\n",
       "      <td>20.583333</td>\n",
       "    </tr>\n",
       "    <tr>\n",
       "      <th>...</th>\n",
       "      <td>...</td>\n",
       "      <td>...</td>\n",
       "      <td>...</td>\n",
       "      <td>...</td>\n",
       "      <td>...</td>\n",
       "      <td>...</td>\n",
       "      <td>...</td>\n",
       "      <td>...</td>\n",
       "      <td>...</td>\n",
       "      <td>...</td>\n",
       "      <td>...</td>\n",
       "      <td>...</td>\n",
       "      <td>...</td>\n",
       "      <td>...</td>\n",
       "      <td>...</td>\n",
       "      <td>...</td>\n",
       "      <td>...</td>\n",
       "      <td>...</td>\n",
       "      <td>...</td>\n",
       "    </tr>\n",
       "    <tr>\n",
       "      <th>642</th>\n",
       "      <td>Ongoing Work At Enugu International Airport (P...</td>\n",
       "      <td>Travel</td>\n",
       "      <td>39659</td>\n",
       "      <td>120</td>\n",
       "      <td>['enugu', 'photos', 'airport', 'work', 'intern...</td>\n",
       "      <td>fergie006</td>\n",
       "      <td>Mon</td>\n",
       "      <td>01-Jun-2020</td>\n",
       "      <td>3:31pm</td>\n",
       "      <td>Mon</td>\n",
       "      <td>01-Jun-2020</td>\n",
       "      <td>6:09pm</td>\n",
       "      <td>04-Jun-2020</td>\n",
       "      <td>07:17am</td>\n",
       "      <td>1.591022e+09</td>\n",
       "      <td>1.591031e+09</td>\n",
       "      <td>https://www.nairaland.com/5896504/ongoing-work...</td>\n",
       "      <td>18.09</td>\n",
       "      <td>2.633333</td>\n",
       "    </tr>\n",
       "    <tr>\n",
       "      <th>920</th>\n",
       "      <td>FG Announces Five Airports To Be Reopened By J...</td>\n",
       "      <td>Travel</td>\n",
       "      <td>49340</td>\n",
       "      <td>90</td>\n",
       "      <td>['june', 'announces', 'reopened', 'fg', 'airpo...</td>\n",
       "      <td>NwekeUG</td>\n",
       "      <td>Wed</td>\n",
       "      <td>03-Jun-2020</td>\n",
       "      <td>2:02pm</td>\n",
       "      <td>Wed</td>\n",
       "      <td>03-Jun-2020</td>\n",
       "      <td>3:04pm</td>\n",
       "      <td>08-Jun-2020</td>\n",
       "      <td>03:24pm</td>\n",
       "      <td>1.591189e+09</td>\n",
       "      <td>1.591193e+09</td>\n",
       "      <td>https://www.nairaland.com/5900745/fg-announces...</td>\n",
       "      <td>15.04</td>\n",
       "      <td>1.033333</td>\n",
       "    </tr>\n",
       "    <tr>\n",
       "      <th>328</th>\n",
       "      <td>My Flight Experience With A Flight Attendant</td>\n",
       "      <td>Travel</td>\n",
       "      <td>70132</td>\n",
       "      <td>330</td>\n",
       "      <td>['flight', 'attendant', 'experience']</td>\n",
       "      <td>Chuky7</td>\n",
       "      <td>Mon</td>\n",
       "      <td>18-May-2020</td>\n",
       "      <td>10:08pm</td>\n",
       "      <td>Tue</td>\n",
       "      <td>26-May-2020</td>\n",
       "      <td>6:12pm</td>\n",
       "      <td>29-May-2020</td>\n",
       "      <td>04:19pm</td>\n",
       "      <td>1.589836e+09</td>\n",
       "      <td>1.590513e+09</td>\n",
       "      <td>https://www.nairaland.com/5866915/flight-exper...</td>\n",
       "      <td>18.12</td>\n",
       "      <td>188.066667</td>\n",
       "    </tr>\n",
       "    <tr>\n",
       "      <th>173</th>\n",
       "      <td>Help! Gurus In The House, How Can I Recover My...</td>\n",
       "      <td>Webmasters</td>\n",
       "      <td>13422</td>\n",
       "      <td>120</td>\n",
       "      <td>['gurus', 'recover', 'gmail', 'account', 'house']</td>\n",
       "      <td>tosyne2much</td>\n",
       "      <td>Thu</td>\n",
       "      <td>21-May-2020</td>\n",
       "      <td>6:59pm</td>\n",
       "      <td>Fri</td>\n",
       "      <td>22-May-2020</td>\n",
       "      <td>11:42am</td>\n",
       "      <td>27-May-2020</td>\n",
       "      <td>01:37pm</td>\n",
       "      <td>1.590084e+09</td>\n",
       "      <td>1.590144e+09</td>\n",
       "      <td>https://www.nairaland.com/5873511/gurus-house-...</td>\n",
       "      <td>11.42</td>\n",
       "      <td>16.716667</td>\n",
       "    </tr>\n",
       "    <tr>\n",
       "      <th>665</th>\n",
       "      <td>Benue Blogger, Tessy Okwori Is Dead (Burial Ph...</td>\n",
       "      <td>Webmasters</td>\n",
       "      <td>52572</td>\n",
       "      <td>120</td>\n",
       "      <td>['photos', 'tessy', 'blogger', 'okwori', 'buri...</td>\n",
       "      <td>owukpa</td>\n",
       "      <td>Wed</td>\n",
       "      <td>03-Jun-2020</td>\n",
       "      <td>8:06am</td>\n",
       "      <td>Wed</td>\n",
       "      <td>03-Jun-2020</td>\n",
       "      <td>11:55am</td>\n",
       "      <td>05-Jun-2020</td>\n",
       "      <td>12:55pm</td>\n",
       "      <td>1.591168e+09</td>\n",
       "      <td>1.591182e+09</td>\n",
       "      <td>https://www.nairaland.com/5899958/benue-blogge...</td>\n",
       "      <td>11.55</td>\n",
       "      <td>3.816667</td>\n",
       "    </tr>\n",
       "  </tbody>\n",
       "</table>\n",
       "<p>1191 rows × 19 columns</p>\n",
       "</div>"
      ],
      "text/plain": [
       "                                              ï»¿topic     category  \\\n",
       "965       Lagos Farmers Show Their Produce (Pictures)   Agriculture   \n",
       "475  Rivers State To Inaugurate Cassava Plant, To E...  Agriculture   \n",
       "507  Ukwulu Invasion: Outcry As Fulani Herdsmen Rui...  Agriculture   \n",
       "464  IVM Expansion: Igwe Nnewi Endorses Plan, Bless...        Autos   \n",
       "8    How Much Should I Pay Someone To Drive My Car ...        Autos   \n",
       "..                                                 ...          ...   \n",
       "642  Ongoing Work At Enugu International Airport (P...       Travel   \n",
       "920  FG Announces Five Airports To Be Reopened By J...       Travel   \n",
       "328       My Flight Experience With A Flight Attendant       Travel   \n",
       "173  Help! Gurus In The House, How Can I Recover My...   Webmasters   \n",
       "665  Benue Blogger, Tessy Okwori Is Dead (Burial Ph...   Webmasters   \n",
       "\n",
       "     number of views  number of comments  \\\n",
       "965            40417                  90   \n",
       "475            19198                  90   \n",
       "507            34555                 240   \n",
       "464            46059                 180   \n",
       "8              44641                 300   \n",
       "..               ...                 ...   \n",
       "642            39659                 120   \n",
       "920            49340                  90   \n",
       "328            70132                 330   \n",
       "173            13422                 120   \n",
       "665            52572                 120   \n",
       "\n",
       "                                              keywords    author name  \\\n",
       "965  ['produce', 'lagos', 'show', 'pictures', 'farm...    Lanrelagboi   \n",
       "475  ['rivers', 'state', 'employ', 'cassava', 'pers...  Anambra1stSon   \n",
       "507  ['anambra', 'video', 'ruin', 'farmlands', 'ukw...        Samakus   \n",
       "464  ['expansion', 'locationphotos', 'endorses', 'b...  Anambra1stSon   \n",
       "8            ['car', 'pay', 'drive', 'abuja', 'lagos']     9jaHustler   \n",
       "..                                                 ...            ...   \n",
       "642  ['enugu', 'photos', 'airport', 'work', 'intern...      fergie006   \n",
       "920  ['june', 'announces', 'reopened', 'fg', 'airpo...        NwekeUG   \n",
       "328              ['flight', 'attendant', 'experience']         Chuky7   \n",
       "173  ['gurus', 'recover', 'gmail', 'account', 'house']    tosyne2much   \n",
       "665  ['photos', 'tessy', 'blogger', 'okwori', 'buri...         owukpa   \n",
       "\n",
       "    weekday created date created time created weekday moved to frontpage  \\\n",
       "965             Sun  07-Jun-2020       1:40pm                        Sun   \n",
       "475             Fri  29-May-2020       6:32am                        Fri   \n",
       "507             Thu  28-May-2020       9:16am                        Sat   \n",
       "464             Wed  27-May-2020       4:40pm                        Fri   \n",
       "8               Sun  24-May-2020      12:42pm                        Mon   \n",
       "..              ...          ...          ...                        ...   \n",
       "642             Mon  01-Jun-2020       3:31pm                        Mon   \n",
       "920             Wed  03-Jun-2020       2:02pm                        Wed   \n",
       "328             Mon  18-May-2020      10:08pm                        Tue   \n",
       "173             Thu  21-May-2020       6:59pm                        Fri   \n",
       "665             Wed  03-Jun-2020       8:06am                        Wed   \n",
       "\n",
       "    date moved to frontpage time moved to frontpage date copied to db  \\\n",
       "965             07-Jun-2020                  2:08pm       10-Jun-2020   \n",
       "475             29-May-2020                  8:39am       01-Jun-2020   \n",
       "507             30-May-2020                 11:07am       02-Jun-2020   \n",
       "464             29-May-2020                 10:14am       01-Jun-2020   \n",
       "8               25-May-2020                  9:17am       27-May-2020   \n",
       "..                      ...                     ...               ...   \n",
       "642             01-Jun-2020                  6:09pm       04-Jun-2020   \n",
       "920             03-Jun-2020                  3:04pm       08-Jun-2020   \n",
       "328             26-May-2020                  6:12pm       29-May-2020   \n",
       "173             22-May-2020                 11:42am       27-May-2020   \n",
       "665             03-Jun-2020                 11:55am       05-Jun-2020   \n",
       "\n",
       "    time copied to db  mktime created  mktime moved  \\\n",
       "965           07:15am    1.591534e+09  1.591535e+09   \n",
       "475           05:31am    1.590730e+09  1.590738e+09   \n",
       "507           03:23am    1.590654e+09  1.590833e+09   \n",
       "464           05:31am    1.590594e+09  1.590744e+09   \n",
       "8             01:30pm    1.590321e+09  1.590395e+09   \n",
       "..                ...             ...           ...   \n",
       "642           07:17am    1.591022e+09  1.591031e+09   \n",
       "920           03:24pm    1.591189e+09  1.591193e+09   \n",
       "328           04:19pm    1.589836e+09  1.590513e+09   \n",
       "173           01:37pm    1.590084e+09  1.590144e+09   \n",
       "665           12:55pm    1.591168e+09  1.591182e+09   \n",
       "\n",
       "                                             topic URL   hour  time difference  \n",
       "965  https://www.nairaland.com/5909405/lagos-farmer...  14.08         0.466667  \n",
       "475  https://www.nairaland.com/5889259/rivers-state...   8.39         2.116667  \n",
       "507  https://www.nairaland.com/5887325/ukwulu-invas...  11.07        49.850000  \n",
       "464  https://www.nairaland.com/5886156/ivm-expansio...  10.14        41.566667  \n",
       "8    https://www.nairaland.com/5879240/how-much-sho...   9.17        20.583333  \n",
       "..                                                 ...    ...              ...  \n",
       "642  https://www.nairaland.com/5896504/ongoing-work...  18.09         2.633333  \n",
       "920  https://www.nairaland.com/5900745/fg-announces...  15.04         1.033333  \n",
       "328  https://www.nairaland.com/5866915/flight-exper...  18.12       188.066667  \n",
       "173  https://www.nairaland.com/5873511/gurus-house-...  11.42        16.716667  \n",
       "665  https://www.nairaland.com/5899958/benue-blogge...  11.55         3.816667  \n",
       "\n",
       "[1191 rows x 19 columns]"
      ]
     },
     "execution_count": 16,
     "metadata": {},
     "output_type": "execute_result"
    }
   ],
   "source": [
    "df.sort_values(by=\"category\", axis=0)\n"
   ]
  },
  {
   "cell_type": "markdown",
   "metadata": {},
   "source": [
    "#### Bucketing dataset (time interval)"
   ]
  },
  {
   "cell_type": "code",
   "execution_count": 18,
   "metadata": {},
   "outputs": [
    {
     "data": {
      "image/png": "[encoded data removed]",
      "text/plain": [
       "<Figure size 432x288 with 1 Axes>"
      ]
     },
     "metadata": {
      "needs_background": "light"
     },
     "output_type": "display_data"
    }
   ],
   "source": [
    "bins = np.array([0, 30, 60, 120, 360, 720, 1440, 4320, 10080, 43200, 129600, 259200])\n",
    "factor = pd.cut(df[\"time difference\"], bins/int(60))\n",
    "grouped = df[\"topic URL\"].groupby(factor)\n",
    "grouped.count().plot(kind=\"bar\", color=\"r\", alpha=0.7)\n",
    "plt.xticks(rotation=\"vertical\")\n",
    "plt.xlabel(\"Time difference (hour)\")\n",
    "plt.ylabel(\"Number of posts\")\n",
    "plt.title(f\"Fig. 4. Time difference between creation of threads and time moved to front-page \\n{from_to}\")\n",
    "#plt.savefig(\"android/IMG/Time_diff.jpeg\")\n",
    "plt.show();\n"
   ]
  },
  {
   "cell_type": "markdown",
   "metadata": {},
   "source": [
    "#### Most used keywords in the last 7 days"
   ]
  },
  {
   "cell_type": "code",
   "execution_count": 34,
   "metadata": {},
   "outputs": [
    {
     "name": "stderr",
     "output_type": "stream",
     "text": [
      "C:\\Users\\Azeez Monsur\\anaconda3\\lib\\site-packages\\matplotlib\\backends\\backend_agg.py:214: RuntimeWarning: Glyph 150 missing from current font.\n",
      "  font.set_text(s, 0.0, flags=flags)\n",
      "C:\\Users\\Azeez Monsur\\anaconda3\\lib\\site-packages\\matplotlib\\backends\\backend_agg.py:183: RuntimeWarning: Glyph 150 missing from current font.\n",
      "  font.set_text(s, 0, flags=flags)\n"
     ]
    },
    {
     "data": {
      "image/png": "[encoded data removed]",
      "text/plain": [
       "<Figure size 432x288 with 1 Axes>"
      ]
     },
     "metadata": {
      "needs_background": "light"
     },
     "output_type": "display_data"
    }
   ],
   "source": [
    "import ast\n",
    "ticks = list(range(0, 51, 5))\n",
    "last_seven_days = df[df[\"mktime moved\"] > df[\"mktime moved\"].max() - (7 * 86400)]\n",
    "k_words = last_seven_days[\"keywords\"]\n",
    "starting_time = ' '.join(time.ctime(new_earliest).split()[0:3])\n",
    "#df[\"mktime moved\"].apply(lambda x: time.ctime(x - 0 * 86400))\n",
    "k_words = pd.Series([word.capitalize() for word_list in k_words for word in ast.literal_eval(word_list)]).value_counts().sort_values().tail(10)\n",
    "k_words.plot(kind=\"barh\", color=\"g\", alpha=0.6)\n",
    "plt.title(f\"Fig. 5. 10 Most common keywords in the last 7 days\\nStarting from {starting_time} backwards\")\n",
    "#plt.xticks(ticks)\n",
    "#plt.xlim(10,50)\n",
    "plt.ylabel(\"Keyword\")\n",
    "plt.xlabel(\"Count\")\n",
    "plt.show(); "
   ]
  },
  {
   "cell_type": "markdown",
   "metadata": {},
   "source": [
    "#### set  index to Pandas datetime"
   ]
  },
  {
   "cell_type": "code",
   "execution_count": 20,
   "metadata": {},
   "outputs": [],
   "source": [
    "df.set_index(pd.to_datetime(df[\"date moved to frontpage\"]));"
   ]
  },
  {
   "cell_type": "markdown",
   "metadata": {},
   "source": [
    "# Statistics on Topics per day"
   ]
  },
  {
   "cell_type": "code",
   "execution_count": 21,
   "metadata": {},
   "outputs": [
    {
     "name": "stderr",
     "output_type": "stream",
     "text": [
      "<ipython-input-21-03dcfac94c21>:1: SettingWithCopyWarning: \n",
      "A value is trying to be set on a copy of a slice from a DataFrame.\n",
      "Try using .loc[row_indexer,col_indexer] = value instead\n",
      "\n",
      "See the caveats in the documentation: https://pandas.pydata.org/pandas-docs/stable/user_guide/indexing.html#returning-a-view-versus-a-copy\n",
      "  df[\"day\"] = df[\"date moved to frontpage\"].apply(lambda x: x.split(\"-\")[0])\n",
      "<ipython-input-21-03dcfac94c21>:2: SettingWithCopyWarning: \n",
      "A value is trying to be set on a copy of a slice from a DataFrame.\n",
      "Try using .loc[row_indexer,col_indexer] = value instead\n",
      "\n",
      "See the caveats in the documentation: https://pandas.pydata.org/pandas-docs/stable/user_guide/indexing.html#returning-a-view-versus-a-copy\n",
      "  df[\"count\"] = 1\n"
     ]
    }
   ],
   "source": [
    "df[\"day\"] = df[\"date moved to frontpage\"].apply(lambda x: x.split(\"-\")[0])\n",
    "df[\"count\"] = 1"
   ]
  },
  {
   "cell_type": "markdown",
   "metadata": {},
   "source": [
    "#### On different fields"
   ]
  },
  {
   "cell_type": "code",
   "execution_count": 22,
   "metadata": {},
   "outputs": [
    {
     "data": {
      "text/html": [
       "<div>\n",
       "<style scoped>\n",
       "    .dataframe tbody tr th:only-of-type {\n",
       "        vertical-align: middle;\n",
       "    }\n",
       "\n",
       "    .dataframe tbody tr th {\n",
       "        vertical-align: top;\n",
       "    }\n",
       "\n",
       "    .dataframe thead th {\n",
       "        text-align: right;\n",
       "    }\n",
       "</style>\n",
       "<table border=\"1\" class=\"dataframe\">\n",
       "  <thead>\n",
       "    <tr style=\"text-align: right;\">\n",
       "      <th></th>\n",
       "      <th>count</th>\n",
       "      <th>number of views</th>\n",
       "      <th>number of comments</th>\n",
       "    </tr>\n",
       "    <tr>\n",
       "      <th>day</th>\n",
       "      <th></th>\n",
       "      <th></th>\n",
       "      <th></th>\n",
       "    </tr>\n",
       "  </thead>\n",
       "  <tbody>\n",
       "    <tr>\n",
       "      <th>01</th>\n",
       "      <td>66</td>\n",
       "      <td>2550224</td>\n",
       "      <td>11010</td>\n",
       "    </tr>\n",
       "    <tr>\n",
       "      <th>02</th>\n",
       "      <td>61</td>\n",
       "      <td>2574007</td>\n",
       "      <td>10980</td>\n",
       "    </tr>\n",
       "    <tr>\n",
       "      <th>03</th>\n",
       "      <td>57</td>\n",
       "      <td>2305554</td>\n",
       "      <td>10710</td>\n",
       "    </tr>\n",
       "    <tr>\n",
       "      <th>04</th>\n",
       "      <td>67</td>\n",
       "      <td>2475364</td>\n",
       "      <td>11700</td>\n",
       "    </tr>\n",
       "    <tr>\n",
       "      <th>05</th>\n",
       "      <td>57</td>\n",
       "      <td>2459131</td>\n",
       "      <td>9390</td>\n",
       "    </tr>\n",
       "    <tr>\n",
       "      <th>06</th>\n",
       "      <td>51</td>\n",
       "      <td>2170194</td>\n",
       "      <td>10710</td>\n",
       "    </tr>\n",
       "    <tr>\n",
       "      <th>07</th>\n",
       "      <td>54</td>\n",
       "      <td>1896246</td>\n",
       "      <td>10530</td>\n",
       "    </tr>\n",
       "    <tr>\n",
       "      <th>08</th>\n",
       "      <td>63</td>\n",
       "      <td>2277064</td>\n",
       "      <td>10410</td>\n",
       "    </tr>\n",
       "    <tr>\n",
       "      <th>09</th>\n",
       "      <td>46</td>\n",
       "      <td>1778396</td>\n",
       "      <td>8040</td>\n",
       "    </tr>\n",
       "    <tr>\n",
       "      <th>22</th>\n",
       "      <td>54</td>\n",
       "      <td>1911361</td>\n",
       "      <td>11820</td>\n",
       "    </tr>\n",
       "    <tr>\n",
       "      <th>23</th>\n",
       "      <td>57</td>\n",
       "      <td>2385076</td>\n",
       "      <td>11610</td>\n",
       "    </tr>\n",
       "    <tr>\n",
       "      <th>24</th>\n",
       "      <td>50</td>\n",
       "      <td>2005867</td>\n",
       "      <td>9600</td>\n",
       "    </tr>\n",
       "    <tr>\n",
       "      <th>25</th>\n",
       "      <td>62</td>\n",
       "      <td>2433464</td>\n",
       "      <td>10860</td>\n",
       "    </tr>\n",
       "    <tr>\n",
       "      <th>26</th>\n",
       "      <td>56</td>\n",
       "      <td>2398843</td>\n",
       "      <td>10860</td>\n",
       "    </tr>\n",
       "    <tr>\n",
       "      <th>27</th>\n",
       "      <td>60</td>\n",
       "      <td>2077430</td>\n",
       "      <td>10020</td>\n",
       "    </tr>\n",
       "    <tr>\n",
       "      <th>28</th>\n",
       "      <td>77</td>\n",
       "      <td>2630492</td>\n",
       "      <td>12450</td>\n",
       "    </tr>\n",
       "    <tr>\n",
       "      <th>29</th>\n",
       "      <td>67</td>\n",
       "      <td>2360508</td>\n",
       "      <td>11670</td>\n",
       "    </tr>\n",
       "    <tr>\n",
       "      <th>30</th>\n",
       "      <td>119</td>\n",
       "      <td>3823409</td>\n",
       "      <td>20970</td>\n",
       "    </tr>\n",
       "    <tr>\n",
       "      <th>31</th>\n",
       "      <td>67</td>\n",
       "      <td>2037984</td>\n",
       "      <td>11610</td>\n",
       "    </tr>\n",
       "  </tbody>\n",
       "</table>\n",
       "</div>"
      ],
      "text/plain": [
       "     count  number of views  number of comments\n",
       "day                                            \n",
       "01      66          2550224               11010\n",
       "02      61          2574007               10980\n",
       "03      57          2305554               10710\n",
       "04      67          2475364               11700\n",
       "05      57          2459131                9390\n",
       "06      51          2170194               10710\n",
       "07      54          1896246               10530\n",
       "08      63          2277064               10410\n",
       "09      46          1778396                8040\n",
       "22      54          1911361               11820\n",
       "23      57          2385076               11610\n",
       "24      50          2005867                9600\n",
       "25      62          2433464               10860\n",
       "26      56          2398843               10860\n",
       "27      60          2077430               10020\n",
       "28      77          2630492               12450\n",
       "29      67          2360508               11670\n",
       "30     119          3823409               20970\n",
       "31      67          2037984               11610"
      ]
     },
     "execution_count": 22,
     "metadata": {},
     "output_type": "execute_result"
    }
   ],
   "source": [
    "topic_stat = df.groupby([\"day\"]).sum()\n",
    "topic_stat[[\"count\", \"number of views\", \"number of comments\"]]\n"
   ]
  },
  {
   "cell_type": "markdown",
   "metadata": {},
   "source": [
    "#### Number of topics per day of the week"
   ]
  },
  {
   "cell_type": "code",
   "execution_count": 29,
   "metadata": {},
   "outputs": [
    {
     "data": {
      "text/html": [
       "<div>\n",
       "<style scoped>\n",
       "    .dataframe tbody tr th:only-of-type {\n",
       "        vertical-align: middle;\n",
       "    }\n",
       "\n",
       "    .dataframe tbody tr th {\n",
       "        vertical-align: top;\n",
       "    }\n",
       "\n",
       "    .dataframe thead th {\n",
       "        text-align: right;\n",
       "    }\n",
       "</style>\n",
       "<table border=\"1\" class=\"dataframe\">\n",
       "  <thead>\n",
       "    <tr style=\"text-align: right;\">\n",
       "      <th></th>\n",
       "      <th>count</th>\n",
       "      <th>number of views</th>\n",
       "      <th>number of comments</th>\n",
       "    </tr>\n",
       "    <tr>\n",
       "      <th>weekday moved to frontpage</th>\n",
       "      <th></th>\n",
       "      <th></th>\n",
       "      <th></th>\n",
       "    </tr>\n",
       "  </thead>\n",
       "  <tbody>\n",
       "    <tr>\n",
       "      <th>Mon</th>\n",
       "      <td>191</td>\n",
       "      <td>7260752</td>\n",
       "      <td>32280</td>\n",
       "    </tr>\n",
       "    <tr>\n",
       "      <th>Tue</th>\n",
       "      <td>163</td>\n",
       "      <td>6751246</td>\n",
       "      <td>29880</td>\n",
       "    </tr>\n",
       "    <tr>\n",
       "      <th>Thu</th>\n",
       "      <td>144</td>\n",
       "      <td>5105856</td>\n",
       "      <td>24150</td>\n",
       "    </tr>\n",
       "    <tr>\n",
       "      <th>Wed</th>\n",
       "      <td>117</td>\n",
       "      <td>4382984</td>\n",
       "      <td>20730</td>\n",
       "    </tr>\n",
       "    <tr>\n",
       "      <th>Fri</th>\n",
       "      <td>111</td>\n",
       "      <td>4370492</td>\n",
       "      <td>21210</td>\n",
       "    </tr>\n",
       "    <tr>\n",
       "      <th>Sat</th>\n",
       "      <td>108</td>\n",
       "      <td>4555270</td>\n",
       "      <td>22320</td>\n",
       "    </tr>\n",
       "    <tr>\n",
       "      <th>Sun</th>\n",
       "      <td>104</td>\n",
       "      <td>3902113</td>\n",
       "      <td>20130</td>\n",
       "    </tr>\n",
       "  </tbody>\n",
       "</table>\n",
       "</div>"
      ],
      "text/plain": [
       "                            count  number of views  number of comments\n",
       "weekday moved to frontpage                                            \n",
       "Mon                           191          7260752               32280\n",
       "Tue                           163          6751246               29880\n",
       "Thu                           144          5105856               24150\n",
       "Wed                           117          4382984               20730\n",
       "Fri                           111          4370492               21210\n",
       "Sat                           108          4555270               22320\n",
       "Sun                           104          3902113               20130"
      ]
     },
     "execution_count": 29,
     "metadata": {},
     "output_type": "execute_result"
    }
   ],
   "source": [
    "days = df.loc[df[\"day\"].apply(lambda x: int(x)) < 29]\n",
    "days = days.groupby(\"weekday moved to frontpage\").sum()\n",
    "days[[\"count\", \"number of views\", \"number of comments\"]].sort_values(\"count\", ascending=False)\n",
    "\n",
    "day_map = {1: \"Sun\", 2: \"Mon\", 3: \"Tue\", 4: \"Wed\", 5: \"Thu\", 6: \"Fri\", 7: \"Sat\"}"
   ]
  },
  {
   "cell_type": "markdown",
   "metadata": {},
   "source": [
    "#### Average number of topics posted per day"
   ]
  },
  {
   "cell_type": "code",
   "execution_count": 30,
   "metadata": {
    "scrolled": true
   },
   "outputs": [
    {
     "data": {
      "text/plain": [
       "('Average topics per day:', 62)"
      ]
     },
     "execution_count": 30,
     "metadata": {},
     "output_type": "execute_result"
    }
   ],
   "source": [
    "\"Average topics per day:\", int(topic_stat[\"count\"].mean())\n"
   ]
  },
  {
   "cell_type": "markdown",
   "metadata": {},
   "source": [
    "#### Average number of views"
   ]
  },
  {
   "cell_type": "code",
   "execution_count": 31,
   "metadata": {},
   "outputs": [
    {
     "data": {
      "text/plain": [
       "('Average number of views per day:', 2344769)"
      ]
     },
     "execution_count": 31,
     "metadata": {},
     "output_type": "execute_result"
    }
   ],
   "source": [
    "\"Average number of views per day:\", int(topic_stat[\"number of views\"].mean())\n"
   ]
  },
  {
   "cell_type": "markdown",
   "metadata": {},
   "source": [
    "#### Average number comments"
   ]
  },
  {
   "cell_type": "code",
   "execution_count": 32,
   "metadata": {},
   "outputs": [
    {
     "data": {
      "text/plain": [
       "('Average number of comments per day:', 11313)"
      ]
     },
     "execution_count": 32,
     "metadata": {},
     "output_type": "execute_result"
    }
   ],
   "source": [
    "\"Average number of comments per day:\", int(topic_stat[\"number of comments\"].mean())\n",
    "\n"
   ]
  },
  {
   "cell_type": "markdown",
   "metadata": {},
   "source": [
    "#### Working with crosstab"
   ]
  },
  {
   "cell_type": "code",
   "execution_count": 33,
   "metadata": {},
   "outputs": [
    {
     "data": {
      "text/html": [
       "<div>\n",
       "<style scoped>\n",
       "    .dataframe tbody tr th:only-of-type {\n",
       "        vertical-align: middle;\n",
       "    }\n",
       "\n",
       "    .dataframe tbody tr th {\n",
       "        vertical-align: top;\n",
       "    }\n",
       "\n",
       "    .dataframe thead th {\n",
       "        text-align: right;\n",
       "    }\n",
       "</style>\n",
       "<table border=\"1\" class=\"dataframe\">\n",
       "  <thead>\n",
       "    <tr style=\"text-align: right;\">\n",
       "      <th>weekday created</th>\n",
       "      <th>Fri</th>\n",
       "      <th>Mon</th>\n",
       "      <th>Sat</th>\n",
       "      <th>Sun</th>\n",
       "      <th>Thu</th>\n",
       "      <th>Tue</th>\n",
       "      <th>Wed</th>\n",
       "    </tr>\n",
       "    <tr>\n",
       "      <th>author name</th>\n",
       "      <th></th>\n",
       "      <th></th>\n",
       "      <th></th>\n",
       "      <th></th>\n",
       "      <th></th>\n",
       "      <th></th>\n",
       "      <th></th>\n",
       "    </tr>\n",
       "  </thead>\n",
       "  <tbody>\n",
       "    <tr>\n",
       "      <th>Islie</th>\n",
       "      <td>5</td>\n",
       "      <td>3</td>\n",
       "      <td>7</td>\n",
       "      <td>5</td>\n",
       "      <td>6</td>\n",
       "      <td>2</td>\n",
       "      <td>6</td>\n",
       "    </tr>\n",
       "    <tr>\n",
       "      <th>Made4naijalove</th>\n",
       "      <td>3</td>\n",
       "      <td>2</td>\n",
       "      <td>3</td>\n",
       "      <td>2</td>\n",
       "      <td>6</td>\n",
       "      <td>1</td>\n",
       "      <td>1</td>\n",
       "    </tr>\n",
       "    <tr>\n",
       "      <th>References</th>\n",
       "      <td>3</td>\n",
       "      <td>5</td>\n",
       "      <td>2</td>\n",
       "      <td>3</td>\n",
       "      <td>3</td>\n",
       "      <td>2</td>\n",
       "      <td>1</td>\n",
       "    </tr>\n",
       "    <tr>\n",
       "      <th>dre11</th>\n",
       "      <td>4</td>\n",
       "      <td>4</td>\n",
       "      <td>8</td>\n",
       "      <td>6</td>\n",
       "      <td>4</td>\n",
       "      <td>4</td>\n",
       "      <td>5</td>\n",
       "    </tr>\n",
       "    <tr>\n",
       "      <th>fergie001</th>\n",
       "      <td>7</td>\n",
       "      <td>4</td>\n",
       "      <td>3</td>\n",
       "      <td>4</td>\n",
       "      <td>3</td>\n",
       "      <td>5</td>\n",
       "      <td>1</td>\n",
       "    </tr>\n",
       "    <tr>\n",
       "      <th>ghettokid1</th>\n",
       "      <td>6</td>\n",
       "      <td>3</td>\n",
       "      <td>4</td>\n",
       "      <td>1</td>\n",
       "      <td>4</td>\n",
       "      <td>1</td>\n",
       "      <td>3</td>\n",
       "    </tr>\n",
       "    <tr>\n",
       "      <th>ijustdey</th>\n",
       "      <td>3</td>\n",
       "      <td>7</td>\n",
       "      <td>1</td>\n",
       "      <td>3</td>\n",
       "      <td>3</td>\n",
       "      <td>4</td>\n",
       "      <td>4</td>\n",
       "    </tr>\n",
       "    <tr>\n",
       "      <th>lalasticlala</th>\n",
       "      <td>2</td>\n",
       "      <td>4</td>\n",
       "      <td>6</td>\n",
       "      <td>5</td>\n",
       "      <td>1</td>\n",
       "      <td>4</td>\n",
       "      <td>9</td>\n",
       "    </tr>\n",
       "    <tr>\n",
       "      <th>obembet</th>\n",
       "      <td>3</td>\n",
       "      <td>4</td>\n",
       "      <td>3</td>\n",
       "      <td>3</td>\n",
       "      <td>1</td>\n",
       "      <td>3</td>\n",
       "      <td>1</td>\n",
       "    </tr>\n",
       "    <tr>\n",
       "      <th>oshozondii</th>\n",
       "      <td>1</td>\n",
       "      <td>4</td>\n",
       "      <td>1</td>\n",
       "      <td>1</td>\n",
       "      <td>3</td>\n",
       "      <td>4</td>\n",
       "      <td>2</td>\n",
       "    </tr>\n",
       "  </tbody>\n",
       "</table>\n",
       "</div>"
      ],
      "text/plain": [
       "weekday created  Fri  Mon  Sat  Sun  Thu  Tue  Wed\n",
       "author name                                       \n",
       "Islie              5    3    7    5    6    2    6\n",
       "Made4naijalove     3    2    3    2    6    1    1\n",
       "References         3    5    2    3    3    2    1\n",
       "dre11              4    4    8    6    4    4    5\n",
       "fergie001          7    4    3    4    3    5    1\n",
       "ghettokid1         6    3    4    1    4    1    3\n",
       "ijustdey           3    7    1    3    3    4    4\n",
       "lalasticlala       2    4    6    5    1    4    9\n",
       "obembet            3    4    3    3    1    3    1\n",
       "oshozondii         1    4    1    1    3    4    2"
      ]
     },
     "execution_count": 33,
     "metadata": {},
     "output_type": "execute_result"
    }
   ],
   "source": [
    "index = list(df[\"author name\"].value_counts().index)\n",
    "\n",
    "index = index[:10]\n",
    "df_new = df[df[\"author name\"].isin(index)].copy()\n",
    "ct = pd.crosstab(df_new[\"author name\"], df_new[\"weekday created\"], margins=False)\n",
    "\n",
    "ct"
   ]
  },
  {
   "cell_type": "code",
   "execution_count": 25,
   "metadata": {},
   "outputs": [
    {
     "data": {
      "image/png": "[encoded data removed]",
      "text/plain": [
       "<Figure size 432x288 with 2 Axes>"
      ]
     },
     "metadata": {
      "needs_background": "light"
     },
     "output_type": "display_data"
    }
   ],
   "source": [
    "sns.heatmap(ct, cmap=\"YlGnBu\", annot=True, cbar=True);"
   ]
  },
  {
   "cell_type": "code",
   "execution_count": null,
   "metadata": {},
   "outputs": [],
   "source": []
  },
  {
   "cell_type": "code",
   "execution_count": null,
   "metadata": {},
   "outputs": [],
   "source": []
  },
  {
   "cell_type": "code",
   "execution_count": null,
   "metadata": {},
   "outputs": [],
   "source": []
  }
 ],
 "metadata": {
  "kernelspec": {
   "display_name": "Python 3",
   "language": "python",
   "name": "python3"
  },
  "language_info": {
   "codemirror_mode": {
    "name": "ipython",
    "version": 3
   },
   "file_extension": ".py",
   "mimetype": "text/x-python",
   "name": "python",
   "nbconvert_exporter": "python",
   "pygments_lexer": "ipython3",
   "version": "3.8.3"
  }
 },
 "nbformat": 4,
 "nbformat_minor": 4
}
